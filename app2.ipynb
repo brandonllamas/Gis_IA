{
 "cells": [
  {
   "cell_type": "markdown",
   "metadata": {},
   "source": [
    "Metodo 2: Este metodo sera enfocado con la libreria opencv y el conocimiento de gihatari\n",
    "att:brandon"
   ]
  },
  {
   "cell_type": "code",
   "execution_count": 1,
   "metadata": {},
   "outputs": [
    {
     "name": "stdout",
     "output_type": "stream",
     "text": [
      "Info Raster\n",
      "Bands Rasters EPSG:4326\n",
      "Numero de bandas 4\n",
      "imagen almacenada image/method2/p/objeto_1.jpg\n",
      "imagen almacenada image/method2/p/objeto_2.jpg\n",
      "imagen almacenada image/method2/p/objeto_3.jpg\n",
      "imagen almacenada image/method2/p/objeto_4.jpg\n",
      "imagen almacenada image/method2/p/objeto_5.jpg\n",
      "imagen almacenada image/method2/p/objeto_6.jpg\n",
      "imagen almacenada image/method2/p/objeto_7.jpg\n",
      "imagen almacenada image/method2/p/objeto_8.jpg\n",
      "imagen almacenada image/method2/p/objeto_9.jpg\n",
      "imagen almacenada image/method2/p/objeto_10.jpg\n",
      "imagen almacenada image/method2/p/objeto_11.jpg\n",
      "imagen almacenada image/method2/p/objeto_12.jpg\n",
      "imagen almacenada image/method2/p/objeto_13.jpg\n",
      "imagen almacenada image/method2/p/objeto_14.jpg\n"
     ]
    }
   ],
   "source": [
    "from modules.method2.method2 import GisIAOpenCV\n",
    "\n",
    "cropIa = GisIAOpenCV()\n",
    "cropIa.openRaster('./image/tea.tif')\n",
    "cropIa.openPoint('./shape/tea/pointData.shp')\n",
    "cropIa.getExamplesImage()\n"
   ]
  }
 ],
 "metadata": {
  "kernelspec": {
   "display_name": "Python 3.9.13 ('GisIA')",
   "language": "python",
   "name": "python3"
  },
  "language_info": {
   "codemirror_mode": {
    "name": "ipython",
    "version": 3
   },
   "file_extension": ".py",
   "mimetype": "text/x-python",
   "name": "python",
   "nbconvert_exporter": "python",
   "pygments_lexer": "ipython3",
   "version": "3.9.13"
  },
  "orig_nbformat": 4,
  "vscode": {
   "interpreter": {
    "hash": "3197c26d2de7e97b3f031a78173a92094c3c745e7659545c799d6c99f979cc60"
   }
  }
 },
 "nbformat": 4,
 "nbformat_minor": 2
}
