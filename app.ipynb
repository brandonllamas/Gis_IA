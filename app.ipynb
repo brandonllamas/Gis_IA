{
 "cells": [
  {
   "cell_type": "markdown",
   "metadata": {},
   "source": [
    "Importamos y llamamos al raster"
   ]
  },
  {
   "cell_type": "code",
   "execution_count": 1,
   "metadata": {},
   "outputs": [
    {
     "name": "stdout",
     "output_type": "stream",
     "text": [
      "Info Raster\n",
      "Bands Rasters EPSG:4326\n",
      "Numero de bandas 4\n",
      "Point data => {'init': 'epsg:4326'}\n"
     ]
    }
   ],
   "source": [
    "from modules.method1 import cropMachine as GisIA\n",
    "import rasterio\n",
    "\n",
    "cropIa = GisIA()\n",
    "cropIa.openRaster('./image/tea.tif')\n",
    "cropIa.openPoint('./shape/tea/pointData.shp')\n",
    "# palmRaster = rasterio.open('image/tea.tif')\n",
    "\n",
    "# greenBand = palmRaster.read(2)\n",
    "# greenBand\n",
    "# print(greenBand)\n",
    "# cropIa.openRasterW(greenBand)\n",
    "\n"
   ]
  },
  {
   "cell_type": "markdown",
   "metadata": {},
   "source": [
    "Mostramos grafico con puntos"
   ]
  },
  {
   "cell_type": "code",
   "execution_count": 2,
   "metadata": {},
   "outputs": [],
   "source": [
    "# cropIa.showFigWithPoint()"
   ]
  },
  {
   "cell_type": "markdown",
   "metadata": {},
   "source": [
    "Vemos las plantas de ejemplo"
   ]
  },
  {
   "cell_type": "code",
   "execution_count": 3,
   "metadata": {},
   "outputs": [
    {
     "name": "stdout",
     "output_type": "stream",
     "text": [
      "./image/tea.tif\n",
      "[[0 0 0 ... 0 0 0]\n",
      " [0 0 0 ... 0 0 0]\n",
      " [0 0 0 ... 0 0 0]\n",
      " ...\n",
      " [0 0 0 ... 0 0 0]\n",
      " [0 0 0 ... 0 0 0]\n",
      " [0 0 0 ... 0 0 0]]\n"
     ]
    },
    {
     "data": {
      "image/png": "[encoded data removed]",
      "text/plain": [
       "<Figure size 2000x500 with 14 Axes>"
      ]
     },
     "metadata": {},
     "output_type": "display_data"
    }
   ],
   "source": [
    "cropIa.viewRasterPoint()"
   ]
  }
 ],
 "metadata": {
  "kernelspec": {
   "display_name": "Python 3.9.13 ('GisIA')",
   "language": "python",
   "name": "python3"
  },
  "language_info": {
   "codemirror_mode": {
    "name": "ipython",
    "version": 3
   },
   "file_extension": ".py",
   "mimetype": "text/x-python",
   "name": "python",
   "nbconvert_exporter": "python",
   "pygments_lexer": "ipython3",
   "version": "3.9.13"
  },
  "orig_nbformat": 4,
  "vscode": {
   "interpreter": {
    "hash": "3197c26d2de7e97b3f031a78173a92094c3c745e7659545c799d6c99f979cc60"
   }
  }
 },
 "nbformat": 4,
 "nbformat_minor": 2
}
